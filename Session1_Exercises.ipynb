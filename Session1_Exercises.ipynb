{
 "cells": [
  {
   "cell_type": "markdown",
   "metadata": {},
   "source": [
    "# Python for Data Science, Level I\n",
    "### *Session \\#1*\n",
    "---\n",
    "###  Jupyter Notebooks\n",
    "  - Standard format for doing/sharing a data analysis. \n",
    "  - Code is run cell-by-cell, with cells run earlier affecting cells run later.\n",
    "  - Name \"Jupyter\" comes from combining Julia, Python and R -- the three biggest languages for data. \n",
    "  - Notebooks run _on your computer_, not the internet. Note that your address bar starts with \"localhost.\"\n",
    "  - To write labels and explanatory text like this, you need to use [Markdown](https://www.markdownguide.org/cheat-sheet/) and switch the cell's mode to match.\n",
    "\n",
    "### Helpful shortcuts\n",
    "---\n",
    "\n",
    "**SHIFT** + **ENTER** ----> Execute Cell\n",
    "\n",
    "**TAB** ----> See autocomplete options\n",
    "\n",
    "**ESC** then **b** ----> Create Cell \n",
    "\n",
    "**ESC** then **dd** ----> Delete Cell\n",
    "\n",
    "**\\[python expression\\]?** ---> Explanation of that Python expression\n",
    "\n",
    "**ESC** then **m** then __ENTER__ ----> Switch to Markdown mode"
   ]
  },
  {
   "cell_type": "markdown",
   "metadata": {},
   "source": [
    "## I. Numbers and Variables"
   ]
  },
  {
   "cell_type": "markdown",
   "metadata": {},
   "source": [
    "### Warm Ups\n",
    "\n",
    "*Type the given code into the cell below*\n",
    "\n",
    "---\n",
    "\n",
    "**Add**: `8 + 7`"
   ]
  },
  {
   "cell_type": "code",
   "execution_count": null,
   "metadata": {},
   "outputs": [],
   "source": []
  },
  {
   "cell_type": "markdown",
   "metadata": {},
   "source": [
    "**Divide**:  `10 / 4`"
   ]
  },
  {
   "cell_type": "code",
   "execution_count": null,
   "metadata": {},
   "outputs": [],
   "source": []
  },
  {
   "cell_type": "markdown",
   "metadata": {},
   "source": [
    "**Multiply**:  `11 * 7`"
   ]
  },
  {
   "cell_type": "code",
   "execution_count": null,
   "metadata": {},
   "outputs": [],
   "source": []
  },
  {
   "cell_type": "markdown",
   "metadata": {},
   "source": [
    "**Raise to power**:  `2 ** 3`"
   ]
  },
  {
   "cell_type": "code",
   "execution_count": null,
   "metadata": {},
   "outputs": [],
   "source": []
  },
  {
   "cell_type": "markdown",
   "metadata": {},
   "source": [
    "**Modulo (aka remainder)**:  `10 % 6`"
   ]
  },
  {
   "cell_type": "code",
   "execution_count": null,
   "metadata": {},
   "outputs": [],
   "source": []
  },
  {
   "cell_type": "markdown",
   "metadata": {},
   "source": [
    "**Create a variable**:  `number_of_planets = 8`"
   ]
  },
  {
   "cell_type": "code",
   "execution_count": 26,
   "metadata": {},
   "outputs": [],
   "source": []
  },
  {
   "cell_type": "markdown",
   "metadata": {},
   "source": [
    "### Exercises\n",
    "---\n",
    "\n",
    "**1. Compute the number of seconds in a year.**\n",
    "\n",
    "(Hint: There are 60 seconds per minute, \n",
    "                60 minutes per hour, \n",
    "                24 hours per day, and \n",
    "                365 days per year.)"
   ]
  },
  {
   "cell_type": "code",
   "execution_count": null,
   "metadata": {},
   "outputs": [],
   "source": []
  },
  {
   "cell_type": "markdown",
   "metadata": {},
   "source": [
    "**2. One cell in a petri dish divides into two every hour. After one day, how many cells will result from that one initial cell?**\n",
    "\n",
    "(Hint: Every time the cells double, the total number is raised by another power of 2.)"
   ]
  },
  {
   "cell_type": "code",
   "execution_count": null,
   "metadata": {},
   "outputs": [],
   "source": []
  },
  {
   "cell_type": "markdown",
   "metadata": {},
   "source": [
    "**3. Is 2001 divisible by 3 or not?**\n",
    "\n",
    "(Hint: Use the modulo operator %)"
   ]
  },
  {
   "cell_type": "code",
   "execution_count": null,
   "metadata": {},
   "outputs": [],
   "source": []
  },
  {
   "cell_type": "markdown",
   "metadata": {},
   "source": [
    "**4. Create a variable** `dinner_bill` **which equals 40. When it's time to tip, how would you use Python to find 20% of** `dinner_bill` **?**\n",
    "\n",
    "(Hint: Remember to translate your percent to a decimal, e.g. 10% -> 0.1)"
   ]
  },
  {
   "cell_type": "code",
   "execution_count": null,
   "metadata": {},
   "outputs": [],
   "source": []
  },
  {
   "cell_type": "markdown",
   "metadata": {},
   "source": [
    "### Extra Credit\n",
    "---\n",
    "\n",
    "**1. The Fibonacci sequence is the series of numbers 1, 1, 2, 3, 5, 7, 13, etc... where each number is the sum of the previous two.** \n",
    "\n",
    "**Can you write code that will find the next Fibonacci number every time it is run?**\n",
    "\n",
    "(Hint: You can set a variable equal to another variable, e.g. var1 = var2)"
   ]
  },
  {
   "cell_type": "code",
   "execution_count": 46,
   "metadata": {},
   "outputs": [],
   "source": [
    "# Run this cell to set initial values\n",
    "\n",
    "two_before = 1\n",
    "one_before = 1\n",
    "current = 2"
   ]
  },
  {
   "cell_type": "code",
   "execution_count": null,
   "metadata": {},
   "outputs": [],
   "source": [
    "# Add three lines of code here\n",
    "\n",
    "\n",
    "# To see what number results, keep this as your last line\n",
    "current"
   ]
  },
  {
   "cell_type": "markdown",
   "metadata": {},
   "source": [
    "## II. Strings and Functions\n",
    "\n",
    "### Warm Ups\n",
    "*Type the given code into the cell below*\n",
    "\n",
    "---\n",
    "\n",
    "**String literal:** `jedi = \"Obi-wan Kenobi\"`"
   ]
  },
  {
   "cell_type": "code",
   "execution_count": null,
   "metadata": {},
   "outputs": [],
   "source": []
  },
  {
   "cell_type": "markdown",
   "metadata": {},
   "source": [
    "**Print function**: `print(jedi)`"
   ]
  },
  {
   "cell_type": "code",
   "execution_count": null,
   "metadata": {},
   "outputs": [],
   "source": []
  },
  {
   "cell_type": "markdown",
   "metadata": {},
   "source": [
    "**F-string**: `f\"Help me {jedi}! You're my only hope.\"`"
   ]
  },
  {
   "cell_type": "code",
   "execution_count": null,
   "metadata": {},
   "outputs": [],
   "source": []
  },
  {
   "cell_type": "markdown",
   "metadata": {},
   "source": [
    "**Addition**: `\"Luke\" + \" Skywalker\"`"
   ]
  },
  {
   "cell_type": "code",
   "execution_count": null,
   "metadata": {},
   "outputs": [],
   "source": []
  },
  {
   "cell_type": "markdown",
   "metadata": {},
   "source": [
    "**Replace**: `\"Darth Vader\".replace(\"Vader\", \"Maul\")`"
   ]
  },
  {
   "cell_type": "code",
   "execution_count": null,
   "metadata": {},
   "outputs": [],
   "source": []
  },
  {
   "cell_type": "markdown",
   "metadata": {},
   "source": [
    "**Create a function**: \n",
    "```python\n",
    "def greet_us(my_name, friends_name):\n",
    "    return f\"hello, {my_name} and {friends_name}\"\n",
    "```"
   ]
  },
  {
   "cell_type": "code",
   "execution_count": null,
   "metadata": {},
   "outputs": [],
   "source": []
  },
  {
   "cell_type": "markdown",
   "metadata": {},
   "source": [
    "### Exercises\n",
    "---"
   ]
  },
  {
   "cell_type": "markdown",
   "metadata": {},
   "source": [
    "**1. Create a function that greets you in a different way. It should still use your name!** \n"
   ]
  },
  {
   "cell_type": "code",
   "execution_count": null,
   "metadata": {},
   "outputs": [],
   "source": []
  },
  {
   "cell_type": "markdown",
   "metadata": {},
   "source": [
    "**2. Create a function** `leet()` **that takes a string and changes the letter** `\"e\"` **to** `\"3\"` **and** `\"t\"` **to** `\"7\"`.\n",
    "\n",
    "**For example,** `leet(\"tape\")` **would return:** `\"7ap3\"`"
   ]
  },
  {
   "cell_type": "code",
   "execution_count": null,
   "metadata": {},
   "outputs": [],
   "source": []
  },
  {
   "cell_type": "markdown",
   "metadata": {},
   "source": [
    "**3. A Madlib is a story where certain words are left out, and in their place you inject suggestions from a friend.** \n",
    "\n",
    "**Create a Madlib function that takes two nouns,** `noun1` **and** `noun2`, **and returns a sentence that uses them!** \n",
    "\n",
    "Hint: Use an f-string to inject the suggestions!"
   ]
  },
  {
   "cell_type": "code",
   "execution_count": null,
   "metadata": {},
   "outputs": [],
   "source": []
  },
  {
   "cell_type": "markdown",
   "metadata": {},
   "source": [
    "### Extra Credit\n",
    "---\n",
    "**1. Create a function that will generate a simple HTML page! It will need some basic [HTML tags](https://www.w3schools.com/html/tryit.asp?filename=tryhtml_basic_document), and the content should be determined by the function inputs.**\n",
    "\n",
    "Hint: You can check if your output is correct by executing it in a Juyper cell, in Markdown mode."
   ]
  },
  {
   "cell_type": "code",
   "execution_count": null,
   "metadata": {},
   "outputs": [],
   "source": []
  },
  {
   "cell_type": "markdown",
   "metadata": {},
   "source": [
    "## III. Lists and Slicing\n",
    "### Warm Ups\n",
    "*Type the given code into the cell below*\n",
    "\n",
    "---\n",
    "\n",
    "**List literal:** `evil_jedi = [\"sidious\", \"vader\", \"maul\"]`"
   ]
  },
  {
   "cell_type": "code",
   "execution_count": null,
   "metadata": {},
   "outputs": [],
   "source": []
  },
  {
   "cell_type": "markdown",
   "metadata": {},
   "source": [
    "**Fetch by index:** `evil_jedi[0]`"
   ]
  },
  {
   "cell_type": "code",
   "execution_count": null,
   "metadata": {},
   "outputs": [],
   "source": []
  },
  {
   "cell_type": "markdown",
   "metadata": {},
   "source": [
    "**Replace element at index:** `evil_jedi[1] = \"anakin\"`"
   ]
  },
  {
   "cell_type": "code",
   "execution_count": null,
   "metadata": {},
   "outputs": [],
   "source": []
  },
  {
   "cell_type": "markdown",
   "metadata": {},
   "source": [
    "**Add item to list:** `evil.jedi.append(\"tyranus\")`"
   ]
  },
  {
   "cell_type": "code",
   "execution_count": null,
   "metadata": {},
   "outputs": [],
   "source": []
  },
  {
   "cell_type": "markdown",
   "metadata": {},
   "source": [
    "**Remove item at index:** `tyranus = evil_jedi.pop(3)`"
   ]
  },
  {
   "cell_type": "code",
   "execution_count": null,
   "metadata": {},
   "outputs": [],
   "source": []
  },
  {
   "cell_type": "markdown",
   "metadata": {},
   "source": [
    "**Fetch slice:** `apprentices = evil_jedi[1:3]`"
   ]
  },
  {
   "cell_type": "code",
   "execution_count": null,
   "metadata": {},
   "outputs": [],
   "source": []
  },
  {
   "cell_type": "markdown",
   "metadata": {},
   "source": [
    "**Assign to slice:** `evil_jedi[1:3] = [\"bane\", \"atrius\"]`"
   ]
  },
  {
   "cell_type": "code",
   "execution_count": null,
   "metadata": {},
   "outputs": [],
   "source": []
  },
  {
   "cell_type": "markdown",
   "metadata": {},
   "source": [
    "### Exercises\n",
    "---\n",
    "\n",
    "\n",
    "**1. Write a function to censor words, by replacing all the middle letters with asterix.**\n",
    "\n",
    "**For example,** `censor(\"python\")` **would return** `\"p****n\"`\n"
   ]
  },
  {
   "cell_type": "code",
   "execution_count": null,
   "metadata": {},
   "outputs": [],
   "source": []
  },
  {
   "cell_type": "markdown",
   "metadata": {},
   "source": [
    "**2. Write a function to mask Social Security numbers, replacing all but the last four digits with asterix.**\n",
    "\n",
    "**For example,** `hide_ssn(\"123456789\")` **would return** `\"******6789\"`"
   ]
  },
  {
   "cell_type": "code",
   "execution_count": null,
   "metadata": {},
   "outputs": [],
   "source": []
  },
  {
   "cell_type": "markdown",
   "metadata": {},
   "source": [
    "**3. Write a function** `mark_done()` **that takes a list and an integer. The function should replace the item at the integer's location with \"DONE\", then return the list.**\n",
    "\n",
    "**For example,** `mark_done([\"milk\", \"eggs\", \"cookies\"], 0)` **should return** `[\"DONE\", \"eggs\", \"cookies\"]`"
   ]
  },
  {
   "cell_type": "code",
   "execution_count": null,
   "metadata": {},
   "outputs": [],
   "source": []
  },
  {
   "cell_type": "markdown",
   "metadata": {},
   "source": [
    "### Extra Credit\n",
    "___\n",
    "**1. Write a function** `phone_format` **that will format a phone number nicely, given just a string of nine digits.**\n",
    "\n",
    "**For example,** `phone_format(\"123456789\")` **would return** `\"(123) 456-789\"`"
   ]
  },
  {
   "cell_type": "code",
   "execution_count": null,
   "metadata": {},
   "outputs": [],
   "source": []
  }
 ],
 "metadata": {
  "kernelspec": {
   "display_name": "Python 3",
   "language": "python",
   "name": "python3"
  },
  "language_info": {
   "codemirror_mode": {
    "name": "ipython",
    "version": 3
   },
   "file_extension": ".py",
   "mimetype": "text/x-python",
   "name": "python",
   "nbconvert_exporter": "python",
   "pygments_lexer": "ipython3",
   "version": "3.6.8"
  }
 },
 "nbformat": 4,
 "nbformat_minor": 2
}
