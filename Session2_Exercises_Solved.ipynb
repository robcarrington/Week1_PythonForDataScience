{
 "cells": [
  {
   "cell_type": "markdown",
   "metadata": {},
   "source": [
    "# Python for Data Science, Level I\n",
    "### *Session \\#2*\n",
    "---\n",
    "\n",
    "### Helpful shortcuts\n",
    "---\n",
    "\n",
    "**SHIFT** + **ENTER** ----> Execute Cell\n",
    "\n",
    "**TAB** ----> See autocomplete options\n",
    "\n",
    "**ESC** then **b** ----> Create Cell \n",
    "\n",
    "**ESC** then **dd** ----> Delete Cell\n",
    "\n",
    "**\\[python expression\\]?** ---> Explanation of that Python expression\n",
    "\n",
    "**ESC** then **m** then __ENTER__ ----> Switch to Markdown mode"
   ]
  },
  {
   "cell_type": "markdown",
   "metadata": {},
   "source": [
    "## I. Sequence Methods\n",
    "\n",
    "### Warm Ups\n",
    "---\n"
   ]
  },
  {
   "cell_type": "markdown",
   "metadata": {},
   "source": [
    "**Reverse**: `evil_jedi[::-1]`"
   ]
  },
  {
   "cell_type": "code",
   "execution_count": 12,
   "metadata": {},
   "outputs": [],
   "source": [
    "evil_jedi = [\"vader\", \"sidious\", \"maul\"]"
   ]
  },
  {
   "cell_type": "markdown",
   "metadata": {},
   "source": [
    "**Sort:** `sorted(evil_jedi)`"
   ]
  },
  {
   "cell_type": "code",
   "execution_count": null,
   "metadata": {},
   "outputs": [],
   "source": []
  },
  {
   "cell_type": "markdown",
   "metadata": {},
   "source": [
    "**Find length:** `len(evil_jedi)`"
   ]
  },
  {
   "cell_type": "code",
   "execution_count": null,
   "metadata": {},
   "outputs": [],
   "source": []
  },
  {
   "cell_type": "markdown",
   "metadata": {},
   "source": [
    "**Join:** `sith_string = \", \".join(evil_jedi)`"
   ]
  },
  {
   "cell_type": "code",
   "execution_count": null,
   "metadata": {},
   "outputs": [],
   "source": []
  },
  {
   "cell_type": "markdown",
   "metadata": {},
   "source": [
    "**Split:** `sith_list = sith_string.split(\", \")`"
   ]
  },
  {
   "cell_type": "code",
   "execution_count": null,
   "metadata": {},
   "outputs": [],
   "source": []
  },
  {
   "cell_type": "markdown",
   "metadata": {},
   "source": [
    "### Exercises\n",
    "---\n",
    "**1. Write a function** `word_mirror()` **that takes a string, and returns the string *plus* the `|` sign *plus* that string reversed**\n",
    "\n",
    "**For example:** `\"Tower\"` **would become** `\"Tower|rewoT\"`"
   ]
  },
  {
   "cell_type": "code",
   "execution_count": 3,
   "metadata": {},
   "outputs": [],
   "source": [
    "def word_mirror(word):\n",
    "    return \"|\".join([word, word[::-1]])"
   ]
  },
  {
   "cell_type": "markdown",
   "metadata": {},
   "source": [
    "**2. Write a function** `min_and_max()` **that will take a list and return the smallest and largest elements as a list of length 2.**\n",
    "\n",
    "**For example,** `min_and_max([1, 2, 3])` **should return** `[1, 3]`\n",
    "\n",
    "Hint: You can use the `sorted()` method to order the elements in a list by size. "
   ]
  },
  {
   "cell_type": "code",
   "execution_count": 5,
   "metadata": {},
   "outputs": [],
   "source": [
    "def min_and_max(my_list):\n",
    "    sorted_list = sorted(my_list)\n",
    "    minimum = sorted_list[0]\n",
    "    maximum = sorted_list[-1]\n",
    "    return [minimum, maximum]"
   ]
  },
  {
   "cell_type": "markdown",
   "metadata": {},
   "source": [
    "**3. Write a function** `smart_string_reverse()` **that will take a string listing items and return a string with the items in reverse order.**\n",
    "\n",
    "**For example,** `\"eats, shoots, leaves\"` **would become** `\"leaves, shoots, eats\"`."
   ]
  },
  {
   "cell_type": "code",
   "execution_count": 6,
   "metadata": {},
   "outputs": [],
   "source": [
    "def smart_string_reverse(string):\n",
    "    chunks = string.split(\", \")\n",
    "    reversed_chunks = chunks[::-1]\n",
    "    return \", \".join(reversed_chunks)"
   ]
  },
  {
   "cell_type": "markdown",
   "metadata": {},
   "source": [
    "### Extra Credit\n",
    "---"
   ]
  },
  {
   "cell_type": "markdown",
   "metadata": {},
   "source": [
    "**1. Write a function** `middle()` **that will take a list and return the middle element. You can assume the list has an odd number of elements.**\n",
    "\n",
    "Hint: The double division sign `//` in Python divides to the nearest integer, rounded down. It is called \"floor division\" because it cuts off the decimal part of the answer."
   ]
  },
  {
   "cell_type": "code",
   "execution_count": null,
   "metadata": {},
   "outputs": [],
   "source": [
    "def middle(my_list):\n",
    "    middle_index = len(my_list)//2\n",
    "    return my_list[middle_index]"
   ]
  },
  {
   "cell_type": "markdown",
   "metadata": {},
   "source": [
    "## II. Booleans\n",
    "\n",
    "### Warm Ups\n",
    "---\n",
    "**Equals:** `10 == 12`"
   ]
  },
  {
   "cell_type": "code",
   "execution_count": null,
   "metadata": {},
   "outputs": [],
   "source": []
  },
  {
   "cell_type": "markdown",
   "metadata": {},
   "source": [
    "**Greater than:** `12 > 10`"
   ]
  },
  {
   "cell_type": "code",
   "execution_count": null,
   "metadata": {},
   "outputs": [],
   "source": []
  },
  {
   "cell_type": "markdown",
   "metadata": {},
   "source": [
    "**Greater than or Equal to:** `10 >= 9`"
   ]
  },
  {
   "cell_type": "code",
   "execution_count": null,
   "metadata": {},
   "outputs": [],
   "source": []
  },
  {
   "cell_type": "markdown",
   "metadata": {},
   "source": [
    "**And:** `True and True`"
   ]
  },
  {
   "cell_type": "code",
   "execution_count": null,
   "metadata": {},
   "outputs": [],
   "source": []
  },
  {
   "cell_type": "markdown",
   "metadata": {},
   "source": [
    "**Or:** `True or False`"
   ]
  },
  {
   "cell_type": "code",
   "execution_count": null,
   "metadata": {},
   "outputs": [],
   "source": []
  },
  {
   "cell_type": "markdown",
   "metadata": {},
   "source": [
    "**Not:** `not False`"
   ]
  },
  {
   "cell_type": "code",
   "execution_count": null,
   "metadata": {},
   "outputs": [],
   "source": []
  },
  {
   "cell_type": "markdown",
   "metadata": {},
   "source": [
    "**In:** `\"i\" in \"team\"`"
   ]
  },
  {
   "cell_type": "code",
   "execution_count": null,
   "metadata": {},
   "outputs": [],
   "source": []
  },
  {
   "cell_type": "markdown",
   "metadata": {},
   "source": [
    "### Exercises\n",
    "---\n",
    "**1. Change the following code to make the result** `True`"
   ]
  },
  {
   "cell_type": "code",
   "execution_count": 16,
   "metadata": {},
   "outputs": [
    {
     "data": {
      "text/plain": [
       "False"
      ]
     },
     "execution_count": 16,
     "metadata": {},
     "output_type": "execute_result"
    }
   ],
   "source": [
    "my_boolean = False\n",
    "True and not my_boolean"
   ]
  },
  {
   "cell_type": "markdown",
   "metadata": {},
   "source": [
    "**2. Write a function that will say whether a given sentence is a palindrome, i.e. the same backwards.**\n",
    "\n",
    "Hint: You can use .replace(\" \", \"\") to remove any spaces from a string."
   ]
  },
  {
   "cell_type": "code",
   "execution_count": null,
   "metadata": {},
   "outputs": [],
   "source": [
    "def palindrome(sentence):\n",
    "    cleaned_sentence = sentence.replace(\" \",\"\")\n",
    "    return cleaned_sentence == cleaned_sentence[::-1]"
   ]
  },
  {
   "cell_type": "markdown",
   "metadata": {},
   "source": [
    "**3. Write a function** `cool_word()` **that will return** `True` **if the given string starts with a** `c` **or ends with a** `d`, **and** `False` **otherwise**\n",
    "\n",
    "**For example,** `cool_word(\"word\")` **returns** `True` **but** `cool_word(\"tree\")` **returns** `False`"
   ]
  },
  {
   "cell_type": "code",
   "execution_count": null,
   "metadata": {},
   "outputs": [],
   "source": [
    "def cool_word(word):\n",
    "    starts_with_c = word[0] == \"c\"\n",
    "    ends_with_d = word[-1] == \"d\"\n",
    "    is_cool = starts_with_c or ends_with_d\n",
    "    return is_cool"
   ]
  },
  {
   "cell_type": "markdown",
   "metadata": {},
   "source": [
    "### Extra Credit\n",
    "---\n",
    "**1. Write a function that will say whether two strings are anagrams of each other, i.e. a rearrangement of the same letters.** \n",
    "\n",
    "Hint: Use sorted() to put a string into alphabetical order."
   ]
  },
  {
   "cell_type": "code",
   "execution_count": null,
   "metadata": {},
   "outputs": [],
   "source": [
    "def anagram(string1, string2):\n",
    "    return sorted(string1) == sorted(string2)"
   ]
  },
  {
   "cell_type": "markdown",
   "metadata": {},
   "source": [
    "## III. Conditional Statements"
   ]
  },
  {
   "cell_type": "markdown",
   "metadata": {},
   "source": [
    "### Warm Ups\n",
    "---\n",
    "**If statement:**\n",
    "    \n",
    "```python\n",
    "condition = True\n",
    "condition2 = False\n",
    "\n",
    "if condition:\n",
    "    print(\"do something\")\n",
    "```"
   ]
  },
  {
   "cell_type": "code",
   "execution_count": null,
   "metadata": {},
   "outputs": [],
   "source": []
  },
  {
   "cell_type": "markdown",
   "metadata": {},
   "source": [
    "**If-else statement:**\n",
    "    \n",
    "```python\n",
    "if condition:\n",
    "    print(\"do something\")\n",
    "else:\n",
    "    print(\"do a different thing\")\n",
    "```"
   ]
  },
  {
   "cell_type": "code",
   "execution_count": null,
   "metadata": {},
   "outputs": [],
   "source": []
  },
  {
   "cell_type": "markdown",
   "metadata": {},
   "source": [
    "**If-elif-else statement:**\n",
    "    \n",
    "```python\n",
    "if condition:\n",
    "    print(\"do something\")\n",
    "elif condition2:\n",
    "    print(\"do a different thing\")\n",
    "else:\n",
    "    print(\"do yet another thing\")\n",
    "```"
   ]
  },
  {
   "cell_type": "code",
   "execution_count": null,
   "metadata": {},
   "outputs": [],
   "source": []
  },
  {
   "cell_type": "markdown",
   "metadata": {},
   "source": [
    "### Exercises\n",
    "---\n",
    "**1. Change the following code to alter the printed statement.**"
   ]
  },
  {
   "cell_type": "code",
   "execution_count": null,
   "metadata": {},
   "outputs": [],
   "source": [
    "he_did_the_crime = False\n",
    "if he_did_the_crime:\n",
    "    print(\"The defendant is GUILTY!\")\n",
    "else:\n",
    "    print(\"The jury has decided the defendant is innocent.\")"
   ]
  },
  {
   "cell_type": "markdown",
   "metadata": {},
   "source": [
    "**2. Predict what will be printed by following code:**"
   ]
  },
  {
   "cell_type": "code",
   "execution_count": null,
   "metadata": {},
   "outputs": [],
   "source": [
    "temperature = 50\n",
    "if temperature < 40:\n",
    "    print(\"BRR IT'S COLD OUT HERE!\")\n",
    "elif temperature < 60:\n",
    "    print(\"Better bring a sweater.\")\n",
    "else:\n",
    "    print(\"Yay! T-shirt weather!\")\n",
    "    \n",
    "# ANSWER: \"Better bring a sweater\""
   ]
  },
  {
   "cell_type": "markdown",
   "metadata": {},
   "source": [
    "**3. Write a function that will print** `\"ACCESS DENIED\"` **for any name but yours.**"
   ]
  },
  {
   "cell_type": "code",
   "execution_count": null,
   "metadata": {},
   "outputs": [],
   "source": [
    "def access(name):\n",
    "    if name == \"Rob\":\n",
    "        print(\"ACCESS GRANTED\")\n",
    "    else:\n",
    "        print(\"ACCESS DENIED\")"
   ]
  },
  {
   "cell_type": "markdown",
   "metadata": {},
   "source": [
    "**4. Write a function** `price_checker()` **that will print \"Expensive\", \"Reasonable\" or \"Cheap\" depending on how large of a number you give as input.**\n",
    "\n",
    "**Let's say less than 20 is cheap, but greater than 50 is expensive**"
   ]
  },
  {
   "cell_type": "code",
   "execution_count": null,
   "metadata": {},
   "outputs": [],
   "source": [
    "def price_checker(price):\n",
    "    if price < 20:\n",
    "        print(\"Cheap\")\n",
    "    elif price <= 50:\n",
    "        print(\"Reasonable\")\n",
    "    else:\n",
    "        print(\"Expensive\")"
   ]
  },
  {
   "cell_type": "markdown",
   "metadata": {},
   "source": [
    "## IV. For Loops\n",
    "\n",
    "\n",
    "### Warm Ups\n",
    "---\n",
    "**For-loop on a list:** \n",
    "    \n",
    "```python\n",
    "for num in [1, 2, 3]:\n",
    "    print(num)\n",
    "```"
   ]
  },
  {
   "cell_type": "code",
   "execution_count": null,
   "metadata": {},
   "outputs": [],
   "source": []
  },
  {
   "cell_type": "markdown",
   "metadata": {},
   "source": [
    "**For-loop on a string:**\n",
    "\n",
    "```python\n",
    "for char in \"word\":\n",
    "    print(char)\n",
    "```"
   ]
  },
  {
   "cell_type": "code",
   "execution_count": null,
   "metadata": {},
   "outputs": [],
   "source": []
  },
  {
   "cell_type": "markdown",
   "metadata": {},
   "source": [
    "**For-loop on a range:**\n",
    "    \n",
    "```python\n",
    "for num in range(10):\n",
    "    print(num)\n",
    "\n",
    "```"
   ]
  },
  {
   "cell_type": "code",
   "execution_count": null,
   "metadata": {},
   "outputs": [],
   "source": []
  },
  {
   "cell_type": "markdown",
   "metadata": {},
   "source": [
    "**Using a for-loop to construct:**\n",
    "    \n",
    "```python\n",
    "i = 0\n",
    "for num in range(10):\n",
    "    i = i + num\n",
    "```"
   ]
  },
  {
   "cell_type": "code",
   "execution_count": null,
   "metadata": {},
   "outputs": [],
   "source": []
  },
  {
   "cell_type": "markdown",
   "metadata": {},
   "source": [
    "### Exercises\n",
    "---"
   ]
  },
  {
   "cell_type": "markdown",
   "metadata": {},
   "source": [
    "**1. Write a function that, given a list of numbers, will sum the entire list.**"
   ]
  },
  {
   "cell_type": "code",
   "execution_count": null,
   "metadata": {},
   "outputs": [],
   "source": [
    "def sum_up(my_list):\n",
    "    i = 0\n",
    "    for n in my_list:\n",
    "        i = i + n\n",
    "    return i"
   ]
  },
  {
   "cell_type": "markdown",
   "metadata": {},
   "source": [
    "**2. Write a function that will find the largest number in a list using a for-loop.**\n",
    "\n",
    "Hint: Create a variable that will track the largest number seen thus far."
   ]
  },
  {
   "cell_type": "code",
   "execution_count": 7,
   "metadata": {},
   "outputs": [],
   "source": [
    "def find_largest(my_list):\n",
    "    i = my_list[0]\n",
    "    for n in my_list:\n",
    "        if n > i:\n",
    "            i = n\n",
    "    return i"
   ]
  },
  {
   "cell_type": "markdown",
   "metadata": {},
   "source": [
    "**3. Write a function** `FizzBuzz()` **which loops over the integers from 1 to 50. For multiples of three print** `\"Fizz\"` **instead of the number and for the multiples of five print** `\"Buzz\"`. **For numbers which are multiples of both three and five print** `\"FizzBuzz\"`"
   ]
  },
  {
   "cell_type": "code",
   "execution_count": 8,
   "metadata": {},
   "outputs": [],
   "source": [
    "def fizzbuzz():\n",
    "    for n in range(1, 51):\n",
    "        div_by_5 = n % 5 == 0\n",
    "        div_by_3 = n % 3 == 0\n",
    "        if div_by_5 and div_by_3:\n",
    "            print(\"FizzBuzz\")\n",
    "        elif div_by_3:\n",
    "            print(\"Fizz\")\n",
    "        elif div_by_5:\n",
    "            print(\"Buzz\")\n",
    "        else:\n",
    "            print(n)"
   ]
  },
  {
   "cell_type": "markdown",
   "metadata": {},
   "source": [
    "### Extra Credit\n",
    "---\n",
    "**1. Write a function to calculate the average score for any student given by the list of strings below.**\n",
    "\n",
    "**Who had the highest average score in the class?**"
   ]
  },
  {
   "cell_type": "code",
   "execution_count": 9,
   "metadata": {},
   "outputs": [
    {
     "name": "stdout",
     "output_type": "stream",
     "text": [
      "['Alex', 75.83333333333333]\n",
      "['Mary', 73.5]\n",
      "['John', 68.33333333333333]\n",
      "['Anne', 73.66666666666667]\n",
      "['Mark', 74.5]\n"
     ]
    }
   ],
   "source": [
    "student_scores =['Alex|75 50 90 80 90 70',\n",
    "                'Mary|76 72 71 68 85 69',\n",
    "                'John|69 67 68 71 68 67',\n",
    "                'Anne|80 69 59 82 71 81',\n",
    "                'Mark|79 81 74 71 69 73'\n",
    "                ]\n",
    "\n",
    "def avg_score(record):\n",
    "    name, scores_str = record.split(\"|\")\n",
    "    scores = scores_str.split()\n",
    "    total = 0\n",
    "    for num in scores:\n",
    "        total = total + int(num)\n",
    "    avg = total/len(scores)\n",
    "    return [name, avg]\n",
    "    \n",
    "for student in student_scores:\n",
    "    print(avg_score(student))"
   ]
  }
 ],
 "metadata": {
  "kernelspec": {
   "display_name": "Python 3",
   "language": "python",
   "name": "python3"
  },
  "language_info": {
   "codemirror_mode": {
    "name": "ipython",
    "version": 3
   },
   "file_extension": ".py",
   "mimetype": "text/x-python",
   "name": "python",
   "nbconvert_exporter": "python",
   "pygments_lexer": "ipython3",
   "version": "3.6.8"
  }
 },
 "nbformat": 4,
 "nbformat_minor": 2
}
