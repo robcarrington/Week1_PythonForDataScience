{
 "cells": [
  {
   "cell_type": "markdown",
   "metadata": {},
   "source": [
    "# Python for Data Science, Level I\n",
    "### *Session \\#2*\n",
    "---\n",
    "\n",
    "### Helpful shortcuts\n",
    "---\n",
    "\n",
    "**SHIFT** + **ENTER** ----> Execute Cell\n",
    "\n",
    "**TAB** ----> See autocomplete options\n",
    "\n",
    "**ESC** then **b** ----> Create Cell \n",
    "\n",
    "**ESC** then **dd** ----> Delete Cell\n",
    "\n",
    "**\\[python expression\\]?** ---> Explanation of that Python expression\n",
    "\n",
    "**ESC** then **m** then __ENTER__ ----> Switch to Markdown mode"
   ]
  },
  {
   "cell_type": "markdown",
   "metadata": {},
   "source": [
    "## I. Lists\n",
    "### Warm Ups\n",
    "*Type the given code into the cell below*\n",
    "\n",
    "---\n",
    "**List literal:** `evil_jedi = [\"sidious\", \"vader\", \"maul\"]`"
   ]
  },
  {
   "cell_type": "code",
   "execution_count": null,
   "metadata": {},
   "outputs": [],
   "source": []
  },
  {
   "cell_type": "markdown",
   "metadata": {},
   "source": [
    "**Append**: `evil_jedi.append(\"dooku\")`"
   ]
  },
  {
   "cell_type": "code",
   "execution_count": null,
   "metadata": {},
   "outputs": [],
   "source": []
  },
  {
   "cell_type": "markdown",
   "metadata": {},
   "source": [
    "**Insert:** `evil_jedi.insert(2, \"rylo ken\")` "
   ]
  },
  {
   "cell_type": "code",
   "execution_count": null,
   "metadata": {},
   "outputs": [],
   "source": []
  },
  {
   "cell_type": "markdown",
   "metadata": {},
   "source": [
    "**Replace element at index:** `evil_jedi[1] = \"anakin\"`"
   ]
  },
  {
   "cell_type": "code",
   "execution_count": null,
   "metadata": {},
   "outputs": [],
   "source": []
  },
  {
   "cell_type": "markdown",
   "metadata": {},
   "source": [
    "**Pop:** `evil_jedi.pop()`"
   ]
  },
  {
   "cell_type": "code",
   "execution_count": null,
   "metadata": {},
   "outputs": [],
   "source": []
  },
  {
   "cell_type": "markdown",
   "metadata": {},
   "source": [
    "### Exercises\n",
    "---\n",
    "\n",
    "**1. Use list methods to turn the following list into the integers 1 to 9. See how few lines you can use.**"
   ]
  },
  {
   "cell_type": "code",
   "execution_count": 19,
   "metadata": {},
   "outputs": [],
   "source": [
    "my_list = [1, \"two\", 3, 4, 6, 5, 9]"
   ]
  },
  {
   "cell_type": "markdown",
   "metadata": {},
   "source": [
    "**2. Write a function that, when given a list, reverses it and adds a** `\"!\"` **to both the beginning and end.**"
   ]
  },
  {
   "cell_type": "code",
   "execution_count": null,
   "metadata": {},
   "outputs": [],
   "source": []
  },
  {
   "cell_type": "markdown",
   "metadata": {},
   "source": [
    "**3. Write a function** `mark_done()` **that takes a list and an integer. The function should replace the item at the integer's location with** `\"DONE\"`, **then return the list.**\n",
    "\n",
    "For example, `mark_done([\"milk\", \"eggs\", \"cookies\"], 0)` should return `[\"DONE\", \"eggs\", \"cookies\"]`"
   ]
  },
  {
   "cell_type": "code",
   "execution_count": null,
   "metadata": {},
   "outputs": [],
   "source": []
  },
  {
   "cell_type": "markdown",
   "metadata": {},
   "source": [
    "## Extra Credit\n",
    "---\n",
    "\n",
    "**1. Write a function** `scratch_done()` **that takes a list and an integer. The function should replace the item at the integer's location with X's over every letter.**\n",
    "\n",
    "**For example,** `scratch_done([\"milk\", \"eggs\", \"cookies\"], 0)` should return `[\"XXXX\", \"eggs\", \"cookies\"]`"
   ]
  },
  {
   "cell_type": "code",
   "execution_count": null,
   "metadata": {},
   "outputs": [],
   "source": []
  },
  {
   "cell_type": "markdown",
   "metadata": {},
   "source": [
    "## II. Sequence Methods\n",
    "\n",
    "### Warm Ups\n",
    "---\n",
    "**Sort:** `sorted(evil_jedi)`"
   ]
  },
  {
   "cell_type": "code",
   "execution_count": null,
   "metadata": {},
   "outputs": [],
   "source": []
  },
  {
   "cell_type": "markdown",
   "metadata": {},
   "source": [
    "**Find length:** `len(evil_jedi)`"
   ]
  },
  {
   "cell_type": "code",
   "execution_count": null,
   "metadata": {},
   "outputs": [],
   "source": []
  },
  {
   "cell_type": "markdown",
   "metadata": {},
   "source": [
    "**Join:** `sith_string = \", \".join(evil_jedi)`"
   ]
  },
  {
   "cell_type": "code",
   "execution_count": null,
   "metadata": {},
   "outputs": [],
   "source": []
  },
  {
   "cell_type": "markdown",
   "metadata": {},
   "source": [
    "**Split:** `sith_list = sith_string.split(\", \")`"
   ]
  },
  {
   "cell_type": "code",
   "execution_count": null,
   "metadata": {},
   "outputs": [],
   "source": []
  },
  {
   "cell_type": "markdown",
   "metadata": {},
   "source": [
    "### Exercises\n",
    "---\n",
    "**1. Write a function** `word_mirror()` **that takes a string, and returns the string *plus* the `|` sign *plus* that string reversed**\n",
    "\n",
    "**For example:** `\"Tower\"` **would become** `\"Tower|rewoT\"`"
   ]
  },
  {
   "cell_type": "code",
   "execution_count": null,
   "metadata": {},
   "outputs": [],
   "source": []
  },
  {
   "cell_type": "markdown",
   "metadata": {},
   "source": [
    "**2. Write a function** `min_and_max()` **that will take a list and return the smallest and largest elements as a list of length 2.**\n",
    "\n",
    "**For example,** `min_and_max([1, 2, 3])` **should return** `[1, 3]`\n",
    "\n",
    "Hint: You can use the `sorted()` method to order the elements in a list by size. "
   ]
  },
  {
   "cell_type": "code",
   "execution_count": null,
   "metadata": {},
   "outputs": [],
   "source": []
  },
  {
   "cell_type": "markdown",
   "metadata": {},
   "source": [
    "**3. Write a function** `smart_string_reverse()` **that will take a string listing items and return a string with the items in reverse order.**\n",
    "\n",
    "**For example,** `\"eats, shoots, leaves\"` **would become** `\"leaves, shoots, eats\"`"
   ]
  },
  {
   "cell_type": "code",
   "execution_count": null,
   "metadata": {},
   "outputs": [],
   "source": []
  },
  {
   "cell_type": "markdown",
   "metadata": {},
   "source": [
    "### Extra Credit\n",
    "---\n",
    "**1. Write a function** `middle()` **that will take a list and return the middle element. You can assume the list has an odd number of elements.**\n",
    "\n",
    "Hint: The double division sign `//` in Python divides to the nearest integer, rounded down. It is called \"floor division\" because it cuts off the decimal part of the answer."
   ]
  },
  {
   "cell_type": "code",
   "execution_count": null,
   "metadata": {},
   "outputs": [],
   "source": []
  },
  {
   "cell_type": "markdown",
   "metadata": {},
   "source": [
    "## II. Booleans\n",
    "\n",
    "### Warm Ups\n",
    "*Type the given code into the cell below*\n",
    "\n",
    "---\n",
    "**Equals:** `10 == 12`"
   ]
  },
  {
   "cell_type": "code",
   "execution_count": null,
   "metadata": {},
   "outputs": [],
   "source": []
  },
  {
   "cell_type": "markdown",
   "metadata": {},
   "source": [
    "**Greater than:** `12 > 10`"
   ]
  },
  {
   "cell_type": "code",
   "execution_count": null,
   "metadata": {},
   "outputs": [],
   "source": []
  },
  {
   "cell_type": "markdown",
   "metadata": {},
   "source": [
    "**Greater than or Equal to:** `10 >= 9`"
   ]
  },
  {
   "cell_type": "code",
   "execution_count": null,
   "metadata": {},
   "outputs": [],
   "source": []
  },
  {
   "cell_type": "markdown",
   "metadata": {},
   "source": [
    "**And:** `True and True`"
   ]
  },
  {
   "cell_type": "code",
   "execution_count": null,
   "metadata": {},
   "outputs": [],
   "source": []
  },
  {
   "cell_type": "markdown",
   "metadata": {},
   "source": [
    "**Or:** `True or False`"
   ]
  },
  {
   "cell_type": "code",
   "execution_count": null,
   "metadata": {},
   "outputs": [],
   "source": []
  },
  {
   "cell_type": "markdown",
   "metadata": {},
   "source": [
    "**Not:** `not False`"
   ]
  },
  {
   "cell_type": "code",
   "execution_count": null,
   "metadata": {},
   "outputs": [],
   "source": []
  },
  {
   "cell_type": "markdown",
   "metadata": {},
   "source": [
    "**In:** `\"i\" in \"team\"`"
   ]
  },
  {
   "cell_type": "code",
   "execution_count": null,
   "metadata": {},
   "outputs": [],
   "source": []
  },
  {
   "cell_type": "markdown",
   "metadata": {},
   "source": [
    "### Exercises\n",
    "---\n",
    "**1. Change the following code to make the result** `True`"
   ]
  },
  {
   "cell_type": "code",
   "execution_count": 10,
   "metadata": {},
   "outputs": [
    {
     "data": {
      "text/plain": [
       "False"
      ]
     },
     "execution_count": 10,
     "metadata": {},
     "output_type": "execute_result"
    }
   ],
   "source": [
    "my_boolean = True\n",
    "True and (not my_boolean)"
   ]
  },
  {
   "cell_type": "markdown",
   "metadata": {},
   "source": [
    "**2. Write a function that will say whether a given sentence is a palindrome, i.e. the same backwards.**\n",
    "\n",
    "Hint: You can use .replace(\" \", \"\") to remove any spaces from a string."
   ]
  },
  {
   "cell_type": "code",
   "execution_count": null,
   "metadata": {},
   "outputs": [],
   "source": []
  },
  {
   "cell_type": "markdown",
   "metadata": {},
   "source": [
    "**3. Write a function** `cool_word()` **that will return** `True` **if the given string starts with a** `c` **or ends with a** `d`, **and** `False` **otherwise**\n",
    "\n",
    "**For example,** `cool_word(\"word\")` **returns** `True` **but** `cool_word(\"tree\")` **returns** `False`"
   ]
  },
  {
   "cell_type": "code",
   "execution_count": null,
   "metadata": {},
   "outputs": [],
   "source": []
  },
  {
   "cell_type": "markdown",
   "metadata": {},
   "source": [
    "**4. Write a function that, given any letter, will return** `\"VOWEL\"` **or** `\"CONSONANT\"` **depending on if the letter is a vowel or consonant.**\n",
    "\n",
    "Hint: Check if the letter is in the vowels"
   ]
  },
  {
   "cell_type": "code",
   "execution_count": null,
   "metadata": {},
   "outputs": [],
   "source": []
  },
  {
   "cell_type": "markdown",
   "metadata": {},
   "source": [
    "### Extra Credit\n",
    "---\n",
    "**1. Write a function that will say whether two strings are anagrams of each other, i.e. a rearrangement of the same letters.** \n",
    "\n",
    "Hint: Use sorted() to put a string into alphabetical order."
   ]
  },
  {
   "cell_type": "code",
   "execution_count": null,
   "metadata": {},
   "outputs": [],
   "source": []
  },
  {
   "cell_type": "markdown",
   "metadata": {},
   "source": [
    "## III. Conditional Statements"
   ]
  },
  {
   "cell_type": "markdown",
   "metadata": {},
   "source": [
    "### Warm Ups\n",
    "*Type the given code into the cell below.*\n",
    "\n",
    "*Change condition and condition2 to see different conditional outcomes.*\n",
    "\n",
    "---\n",
    "**If statement:**\n",
    "    \n",
    "```python\n",
    "condition = True\n",
    "condition2 = False\n",
    "\n",
    "if condition:\n",
    "    print(\"do something\")\n",
    "```"
   ]
  },
  {
   "cell_type": "code",
   "execution_count": null,
   "metadata": {},
   "outputs": [],
   "source": []
  },
  {
   "cell_type": "markdown",
   "metadata": {},
   "source": [
    "**If-else statement:**\n",
    "    \n",
    "```python\n",
    "if condition:\n",
    "    print(\"do something\")\n",
    "else:\n",
    "    print(\"do a different thing\")\n",
    "```"
   ]
  },
  {
   "cell_type": "code",
   "execution_count": null,
   "metadata": {},
   "outputs": [],
   "source": []
  },
  {
   "cell_type": "markdown",
   "metadata": {},
   "source": [
    "**If-elif-else statement:**\n",
    "    \n",
    "```python\n",
    "if condition:\n",
    "    print(\"do something\")\n",
    "elif condition2:\n",
    "    print(\"do a different thing\")\n",
    "else:\n",
    "    print(\"do yet another thing\")\n",
    "```"
   ]
  },
  {
   "cell_type": "code",
   "execution_count": null,
   "metadata": {},
   "outputs": [],
   "source": []
  },
  {
   "cell_type": "markdown",
   "metadata": {},
   "source": [
    "### Exercises\n",
    "---\n",
    "**1. Call the following function with different integer inputs, to get it to print each of its messages. You do not need to modify the function.**"
   ]
  },
  {
   "cell_type": "code",
   "execution_count": null,
   "metadata": {},
   "outputs": [],
   "source": [
    "def thermosat(temp):\n",
    "    if temp < 40:\n",
    "        print(\"BRR IT'S COLD OUT HERE!\")\n",
    "    elif temp < 60:\n",
    "        print(\"Better bring a sweater.\")\n",
    "    else:\n",
    "        print(\"Yay! T-shirt weather!\")"
   ]
  },
  {
   "cell_type": "markdown",
   "metadata": {},
   "source": [
    "**2. Write a function that returns** `\"EVEN\"` **or** `\"ODD\"` **depending on if the input number is even or odd.** "
   ]
  },
  {
   "cell_type": "code",
   "execution_count": null,
   "metadata": {},
   "outputs": [],
   "source": []
  },
  {
   "cell_type": "markdown",
   "metadata": {},
   "source": [
    "**3. Write a function that will print** `\"ACCESS DENIED\"` **for any name but yours. Print** `\"ACCESS GRANTED\"` **for your name.**"
   ]
  },
  {
   "cell_type": "code",
   "execution_count": null,
   "metadata": {},
   "outputs": [],
   "source": []
  },
  {
   "cell_type": "markdown",
   "metadata": {},
   "source": [
    "**4. Write a function** `price_checker()` **that will print** `\"Expensive\"`, `\"Reasonable\"` or `\"Cheap\"` **depending on how large of a number you give as input.**\n",
    "\n",
    "**Let's say less than 20 is cheap, but greater than 50 is expensive**"
   ]
  },
  {
   "cell_type": "code",
   "execution_count": null,
   "metadata": {},
   "outputs": [],
   "source": []
  },
  {
   "cell_type": "markdown",
   "metadata": {},
   "source": [
    "## IV. For Loops\n",
    "\n",
    "\n",
    "### Warm Ups\n",
    "---\n",
    "**For-loop on a list:** \n",
    "    \n",
    "```python\n",
    "for num in [1, 2, 3]:\n",
    "    print(num)\n",
    "```"
   ]
  },
  {
   "cell_type": "code",
   "execution_count": null,
   "metadata": {},
   "outputs": [],
   "source": []
  },
  {
   "cell_type": "markdown",
   "metadata": {},
   "source": [
    "**For-loop on a string:**\n",
    "\n",
    "```python\n",
    "for char in \"word\":\n",
    "    print(char)\n",
    "```"
   ]
  },
  {
   "cell_type": "code",
   "execution_count": null,
   "metadata": {},
   "outputs": [],
   "source": []
  },
  {
   "cell_type": "markdown",
   "metadata": {},
   "source": [
    "**For-loop on a range:**\n",
    "    \n",
    "```python\n",
    "for num in range(10):\n",
    "    print(num)\n",
    "\n",
    "```"
   ]
  },
  {
   "cell_type": "code",
   "execution_count": null,
   "metadata": {},
   "outputs": [],
   "source": []
  },
  {
   "cell_type": "markdown",
   "metadata": {},
   "source": [
    "**Using a for-loop to construct:**\n",
    "    \n",
    "```python\n",
    "i = 0\n",
    "for num in range(10):\n",
    "    i = i + num\n",
    "```"
   ]
  },
  {
   "cell_type": "code",
   "execution_count": null,
   "metadata": {},
   "outputs": [],
   "source": []
  },
  {
   "cell_type": "markdown",
   "metadata": {},
   "source": [
    "### Exercises\n",
    "---"
   ]
  },
  {
   "cell_type": "markdown",
   "metadata": {},
   "source": [
    "**1. Write a function that, given a list of numbers, will sum the entire list.**"
   ]
  },
  {
   "cell_type": "code",
   "execution_count": null,
   "metadata": {},
   "outputs": [],
   "source": []
  },
  {
   "cell_type": "markdown",
   "metadata": {},
   "source": [
    "**2. Write function that, given a list of numbers, will return the count of negative numbers in the list.**"
   ]
  },
  {
   "cell_type": "code",
   "execution_count": null,
   "metadata": {},
   "outputs": [],
   "source": []
  },
  {
   "cell_type": "markdown",
   "metadata": {},
   "source": [
    "**3. Write a function that will find the largest number in a list using a for-loop.**\n",
    "\n",
    "Hint: Create a variable that will track the largest number seen thus far."
   ]
  },
  {
   "cell_type": "code",
   "execution_count": null,
   "metadata": {},
   "outputs": [],
   "source": []
  },
  {
   "cell_type": "markdown",
   "metadata": {},
   "source": [
    "**4. Write a function** `fizzbuzz()` **which loops over the integers from 1 to 50. For multiples of three print** `\"Fizz\"` **instead of the number and for the multiples of five print** `\"Buzz\"`. **For numbers which are multiples of both three and five print** `\"FizzBuzz\"`"
   ]
  },
  {
   "cell_type": "code",
   "execution_count": null,
   "metadata": {},
   "outputs": [],
   "source": []
  },
  {
   "cell_type": "markdown",
   "metadata": {},
   "source": [
    "### Extra Credit\n",
    "---\n",
    "**1. Write a function to calculate the average score for any student given by the list of strings below.**\n",
    "\n",
    "**Who had the highest average score in the class?**"
   ]
  },
  {
   "cell_type": "code",
   "execution_count": null,
   "metadata": {},
   "outputs": [],
   "source": [
    "student_scores =['Alex|75 50 90 80 90 70',\n",
    "                'Mary|76 72 71 68 85 69',\n",
    "                'John|69 67 68 71 68 67',\n",
    "                'Anne|80 69 59 82 71 81',\n",
    "                'Mark|79 81 74 71 69 73'\n",
    "                ]"
   ]
  },
  {
   "cell_type": "markdown",
   "metadata": {},
   "source": [
    "**2. Write a function** `digit_sum()` **that, given a number, will return the sum of its digits.**\n",
    "\n",
    "**For example,** `digit_sum(1824)` **would return** `15` "
   ]
  },
  {
   "cell_type": "code",
   "execution_count": null,
   "metadata": {},
   "outputs": [],
   "source": []
  }
 ],
 "metadata": {
  "kernelspec": {
   "display_name": "Python 3",
   "language": "python",
   "name": "python3"
  },
  "language_info": {
   "codemirror_mode": {
    "name": "ipython",
    "version": 3
   },
   "file_extension": ".py",
   "mimetype": "text/x-python",
   "name": "python",
   "nbconvert_exporter": "python",
   "pygments_lexer": "ipython3",
   "version": "3.6.8"
  }
 },
 "nbformat": 4,
 "nbformat_minor": 2
}
